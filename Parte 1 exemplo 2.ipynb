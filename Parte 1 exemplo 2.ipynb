{
 "cells": [
  {
   "cell_type": "code",
   "execution_count": 5,
   "id": "e8a00c9e",
   "metadata": {},
   "outputs": [
    {
     "name": "stdout",
     "output_type": "stream",
     "text": [
      "Zeros de h(x):\n",
      " [-3.1925824  2.1925824]\n"
     ]
    }
   ],
   "source": [
    "import numpy as np\n",
    "from scipy.optimize import fsolve\n",
    "def f(x):\n",
    "    return -x**2 + 4\n",
    "def g(x):\n",
    "    return x - 3\n",
    "def h(x) :\n",
    "    return f(x)-g(x)\n",
    "\n",
    "initial_guesses = [-3, 2]\n",
    "zeros = fsolve(h, initial_guesses)\n",
    "\n",
    "print(\"Zeros de h(x):\\n\", zeros)\n",
    "a = zeros[0]\n",
    "b = zeros[1]\n"
   ]
  },
  {
   "cell_type": "code",
   "execution_count": 7,
   "id": "1da54db8",
   "metadata": {},
   "outputs": [
    {
     "name": "stdout",
     "output_type": "stream",
     "text": [
      "26.02829656781676\n",
      "0.0\n"
     ]
    }
   ],
   "source": [
    "def RegraSimpson(m,a,b,n):\n",
    "    h = (b -a) / n\n",
    "    integral = m(a) + m(b) \n",
    "\n",
    "    for i in range(1, n):\n",
    "        if i% 2 == 0:\n",
    "            integral += 2 * m(a + i *h)\n",
    "        else:\n",
    "            integral += 4 * m(a + i *h)\n",
    "    resultado = (h/3)*integral\n",
    "    return resultado\n",
    "print(RegraSimpson(h, a, b, 100))\n",
    "\n",
    "def Regra_Simpson_erro(m, a, b, n, majorante):\n",
    "    h = (b-a) / n\n",
    "    erro = (h**4 *(b-a)/180) * majorante\n",
    "    soma = 0\n",
    "    for i in range (1, n):\n",
    "        if i% 2 == 0:\n",
    "            soma = soma + 2*m(a + i*h)\n",
    "        else:\n",
    "            soma = soma + 4*m(a + i *h)\n",
    "    soma = soma + m(a) + m(b)\n",
    "    return erro\n",
    "print(Regra_Simpson_erro(h, a, b, 100, 0))"
   ]
  },
  {
   "cell_type": "code",
   "execution_count": null,
   "id": "e0f00964",
   "metadata": {},
   "outputs": [],
   "source": []
  }
 ],
 "metadata": {
  "kernelspec": {
   "display_name": "Python 3 (ipykernel)",
   "language": "python",
   "name": "python3"
  },
  "language_info": {
   "codemirror_mode": {
    "name": "ipython",
    "version": 3
   },
   "file_extension": ".py",
   "mimetype": "text/x-python",
   "name": "python",
   "nbconvert_exporter": "python",
   "pygments_lexer": "ipython3",
   "version": "3.9.13"
  }
 },
 "nbformat": 4,
 "nbformat_minor": 5
}
